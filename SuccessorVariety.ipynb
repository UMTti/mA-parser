{
 "cells": [
  {
   "cell_type": "code",
   "execution_count": 44,
   "metadata": {},
   "outputs": [
    {
     "name": "stdout",
     "output_type": "stream",
     "text": [
      "287\n"
     ]
    }
   ],
   "source": [
    "words = open(\"ma_words_arhippa_perttune.txt\").read().split(\"\\n\")\n",
    "\n",
    "print(len(words))"
   ]
  },
  {
   "cell_type": "code",
   "execution_count": 32,
   "metadata": {},
   "outputs": [],
   "source": [
    "successors = {}\n",
    "for w in words:\n",
    "    substr = \"\"\n",
    "    for c in w:\n",
    "        if substr == \"\":\n",
    "            substr += c\n",
    "            continue\n",
    "        if substr in successors:\n",
    "            if c in successors[substr]:\n",
    "                substr += c\n",
    "                continue\n",
    "            else:\n",
    "                successors[substr].append(c)\n",
    "        else:\n",
    "            successors[substr] = [c]\n",
    "        substr += c"
   ]
  },
  {
   "cell_type": "code",
   "execution_count": 39,
   "metadata": {},
   "outputs": [
    {
     "name": "stdout",
     "output_type": "stream",
     "text": [
      "kuo 2\n",
      "kuol 2\n",
      "kuoloma 2\n",
      "juo 3\n",
      "juoks 2\n",
      "juoksoma 3\n",
      "liikkuma 2\n",
      "kat 4\n",
      "katsoma 2\n",
      "katsomah 2\n",
      "kantama 3\n",
      "juoksema 3\n",
      "kalk 2\n",
      "vuotama 2\n",
      "tavott 2\n",
      "laulama 3\n",
      "kosjomah 3\n",
      "sotkoma 2\n",
      "vir 2\n",
      "viruttama 2\n",
      "kuul 2\n",
      "pai 3\n",
      "lietsomah 2\n",
      "kinta 2\n",
      "painamah 2\n",
      "kov 2\n",
      "kuulema 3\n",
      "ale 2\n",
      "nuo 2\n",
      "saama 2\n",
      "polk 2\n",
      "polkomah 2\n",
      "poim 2\n",
      "poimoma 2\n",
      "luo 2\n",
      "kato 2\n",
      "katoama 3\n",
      "paist 2\n",
      "paistama 3\n",
      "tuom 2\n",
      "suo 2\n",
      "jumal 2\n",
      "kulk 2\n",
      "kulkema 2\n",
      "kumottama 2\n",
      "katu 2\n",
      "kumottamas 2\n",
      "paistamas 2\n",
      "kuolema 2\n",
      "luomassas 2\n",
      "hautasim 2\n",
      "kiusasim 2\n",
      "leipoma 2\n",
      "sul 2\n",
      "muikk 2\n",
      "juoksomas 2\n",
      "lakas 2\n"
     ]
    }
   ],
   "source": [
    "for k in successors:\n",
    "    lista = successors[k]\n",
    "    if len(k) > 2 and len(lista) >= 2:\n",
    "        print(k, len(lista))"
   ]
  },
  {
   "cell_type": "code",
   "execution_count": 46,
   "metadata": {},
   "outputs": [
    {
     "name": "stdout",
     "output_type": "stream",
     "text": [
      "a 5\n",
      "masta 4\n",
      "omasta 3\n",
      "an 4\n",
      "mahan 5\n",
      "omahan 8\n",
      "amahan 6\n",
      "tamahan 6\n",
      "mah 5\n",
      "amah 3\n",
      "emahan 4\n",
      "semahan 3\n",
      "i 3\n",
      "mani 3\n",
      "massa 4\n",
      "amassa 3\n",
      "tamassa 3\n",
      "matta 3\n",
      "ottamahan 4\n",
      "omah 3\n",
      "omassa 3\n",
      "omatta 3\n",
      "maan 5\n",
      "omaan 4\n",
      "mahe 4\n",
      "omahe 3\n",
      "imahan 3\n",
      "omaha 3\n",
      "ma 4\n",
      "stamahan 3\n",
      "omani 3\n",
      "emasta 3\n"
     ]
    }
   ],
   "source": [
    "precedessors = {}\n",
    "for w in words:\n",
    "    w = w[::-1]\n",
    "    substr = \"\"\n",
    "    for c in w:\n",
    "        if substr == \"\":\n",
    "            substr += c\n",
    "            continue\n",
    "        if substr in precedessors:\n",
    "            if c in precedessors[substr]:\n",
    "                substr += c\n",
    "                continue\n",
    "            else:\n",
    "                precedessors[substr].append(c)\n",
    "        else:\n",
    "            precedessors[substr] = [c]\n",
    "        substr += c\n",
    "        \n",
    "        \n",
    "for k in precedessors:\n",
    "    lista = precedessors[k]\n",
    "    if len(lista) >= 3:\n",
    "        print(k[::-1], len(lista))"
   ]
  },
  {
   "cell_type": "code",
   "execution_count": null,
   "metadata": {},
   "outputs": [],
   "source": []
  }
 ],
 "metadata": {
  "kernelspec": {
   "display_name": "Python 3",
   "language": "python",
   "name": "python3"
  },
  "language_info": {
   "codemirror_mode": {
    "name": "ipython",
    "version": 3
   },
   "file_extension": ".py",
   "mimetype": "text/x-python",
   "name": "python",
   "nbconvert_exporter": "python",
   "pygments_lexer": "ipython3",
   "version": "3.8.3"
  }
 },
 "nbformat": 4,
 "nbformat_minor": 4
}
